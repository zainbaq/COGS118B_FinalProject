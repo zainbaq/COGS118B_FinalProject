{
 "cells": [
  {
   "cell_type": "code",
   "execution_count": 1,
   "metadata": {},
   "outputs": [],
   "source": [
    "import numpy as np \n",
    "import pandas as pd\n",
    "from PIL import Image\n",
    "\n",
    "import os\n",
    "import csv \n",
    "\n",
    "import sklearn as skl\n",
    "from sklearn.svm import SVC\n",
    "from sklearn.model_selection import train_test_split\n",
    "from sklearn.model_selection import GridSearchCV\n",
    "from sklearn.model_selection import KFold\n",
    "\n",
    "import matplotlib.pyplot as plt\n",
    "import seaborn as sns"
   ]
  },
  {
   "cell_type": "code",
   "execution_count": 2,
   "metadata": {},
   "outputs": [],
   "source": [
    "#pre-processing - done by Baquar\n",
    "def load_data(data_dir, labels_dir, labels_target_dir):\n",
    "    # Load in data\n",
    "    data = np.array([])\n",
    "    img_names = np.array([])\n",
    "    d_size = 0\n",
    "    for filename in os.listdir(jaffe_dir):\n",
    "        if filename.endswith(\".tiff\"):\n",
    "            im = Image.open(os.path.join(jaffe_dir, filename))\n",
    "            imarray = np.array(im)\n",
    "            data = np.append(data, imarray)\n",
    "            name = filename.replace('.tiff', '')\n",
    "            img_names = np.append(img_names, name)\n",
    "            d_size = d_size+1\n",
    "\n",
    "    label_head = ['#', 'HAP', 'SAD', 'SUR', 'ANG', 'DIS', 'FEA', 'PIC']\n",
    "    labels = pd.read_csv(\n",
    "        labels_dir, \n",
    "        sep=' ', \n",
    "        header=None,\n",
    "        names = label_head\n",
    "        )\n",
    "    # reshape data such that each row is a 256x256 image of a face\n",
    "    data = np.reshape(data, (d_size, -1))\n",
    "\n",
    "    return data, labels, img_names\n",
    "\n",
    "def save_data(data, labels, img_names):\n",
    "    # Save data to avoid future reading\n",
    "    np.save('datasets/jaffe_loaded.npy', data)\n",
    "    # Save labels to separate csv\n",
    "    labels.to_csv(labels_target_dir, sep=',')\n",
    "    # save img names to separate csv\n",
    "    with open('datasets/jaffe_img_ids.txt', 'w') as F:\n",
    "        wr = csv.writer(F)\n",
    "        wr.writerow(img_names)\n",
    "\n",
    "if __name__ == '__main__':\n",
    "\n",
    "    jaffe_dir = 'datasets/jaffe/jaffedbase/'\n",
    "    labels_dir = 'datasets/jaffe/labels.txt'\n",
    "    labels_target_dir = 'datasets/jaffe_labels.csv'\n",
    "\n",
    "    data, labels, img_names = load_data(\n",
    "        jaffe_dir,\n",
    "        labels_dir,\n",
    "        labels_target_dir\n",
    "    )\n",
    "\n",
    "    save_data(data, labels, img_names)\n",
    "\n",
    "\n",
    "def train_test_split(df):\n",
    "    \n",
    "    df.sample(frac=1)\n",
    "    print('Data loaded and shuffled.')\n",
    "\n",
    "    # n_neighbors = int(input(\"n_neighbors: \"))\n",
    "    n_obs = df.shape[0]\n",
    "    train_frac = 0.7\n",
    "\n",
    "    trainset = df.iloc[:int(train_frac*n_obs), :]\n",
    "    testset = df.iloc[int(train_frac*n_obs):n_obs-1, :]\n",
    "\n",
    "    train_labels = trainset.expression\n",
    "    train_inputs = trainset.drop(columns=['expression', 'Unnamed: 0'], axis=1)\n",
    "\n",
    "    test_labels = testset.expression\n",
    "    test_inputs = testset.drop(columns=['expression', 'Unnamed: 0'], axis=1)\n",
    "\n",
    "    print(\"\\nTrain inputs shape: {0}, train labels shape: {1}\".format(\n",
    "        train_inputs.shape,\n",
    "        train_labels.shape\n",
    "    ))\n",
    "\n",
    "    print(\"\\nTest inputs shape: {0}, test labels shape: {1}\".format(\n",
    "        test_inputs.shape,\n",
    "        test_labels.shape\n",
    "    ))\n",
    "\n",
    "    return train_inputs, train_labels, test_inputs, test_labels"
   ]
  },
  {
   "cell_type": "code",
   "execution_count": 3,
   "metadata": {},
   "outputs": [],
   "source": [
    "#pre-processing - done by Baquar\n",
    "def process_names(st):\n",
    "    st = list(st)\n",
    "    for i in range(len(st)):\n",
    "        if st[-1] == '.':\n",
    "            break\n",
    "        else:\n",
    "            st.pop()\n",
    "    st.pop()\n",
    "    st = ''.join(st)\n",
    "    st = st.replace('.', '-')\n",
    "    return st\n",
    "\n",
    "################################################################\n",
    "\n",
    "# Loading in saved data\n",
    "data_dir = 'datasets/jaffe_loaded.npy'\n",
    "names_dir = 'datasets/jaffe_img_ids.txt'\n",
    "labels_dir = 'datasets/jaffe_labels.csv'\n",
    "\n",
    "df = pd.DataFrame(data=np.load(data_dir))\n",
    "names = pd.read_csv(names_dir, delimiter=',', header=None).to_numpy().squeeze()\n",
    "\n",
    "# Manipulate image names to match label format\n",
    "names = [process_names(name) for name in names]\n",
    "\n",
    "# Add names column to image df\n",
    "df['names'] = names\n",
    "\n",
    "df_labels = pd.read_csv(labels_dir)\n",
    "df_labels = df_labels.drop(columns='Unnamed: 0', axis=1)\n",
    "\n",
    "'''\n",
    "The labels are given as a table of 6 mean scores for each image.\n",
    "Therefore, we take the expression with the highest mean score among these\n",
    "six, and use that as the label for that image.\n",
    "'''\n",
    "\n",
    "df_labelids = df_labels.PIC\n",
    "df_labels = df_labels.drop(columns=['PIC', '#'], axis=1)\n",
    "\n",
    "expressions = []\n",
    "for i, row in enumerate(df_labels.to_numpy()):\n",
    "    # print(type(row))\n",
    "    expression = np.argmax(row)\n",
    "    expressions.append(expression)\n",
    "\n",
    "df_labels['names'] = df_labelids\n",
    "df_labels['expression'] = expressions\n",
    "\n",
    "df_all = pd.merge(df, df_labels, on='names')\n",
    "\n",
    "df_final = df_all.drop(\n",
    "    columns=['names', 'HAP', 'SAD', 'SUR', 'ANG', 'DIS', 'FEA'],\n",
    "    axis=1\n",
    ")\n",
    "\n",
    "df_final.to_csv(\n",
    "    'datasets/final_data.csv',\n",
    "    sep=','\n",
    ")\n",
    "#################################################################"
   ]
  },
  {
   "cell_type": "code",
   "execution_count": 4,
   "metadata": {},
   "outputs": [],
   "source": [
    "X = df_final.iloc[:, 0:65536]\n",
    "y = df_final.iloc[:, 65536]\n",
    "\n",
    "X_train, X_test, y_train, y_test = skl.model_selection.train_test_split(X, y)"
   ]
  },
  {
   "cell_type": "code",
   "execution_count": 5,
   "metadata": {},
   "outputs": [
    {
     "data": {
      "text/plain": [
       "GridSearchCV(cv=KFold(n_splits=3, random_state=None, shuffle=False),\n",
       "             error_score='raise-deprecating',\n",
       "             estimator=SVC(C=1.0, cache_size=200, class_weight=None, coef0=0.0,\n",
       "                           decision_function_shape='ovr', degree=2,\n",
       "                           gamma='scale', kernel='poly', max_iter=-1,\n",
       "                           probability=False, random_state=None, shrinking=True,\n",
       "                           tol=0.001, verbose=False),\n",
       "             iid=True, n_jobs=None, param_grid={'C': [1, 2, 3]},\n",
       "             pre_dispatch='2*n_jobs', refit=True, return_train_score=True,\n",
       "             scoring=None, verbose=0)"
      ]
     },
     "execution_count": 5,
     "metadata": {},
     "output_type": "execute_result"
    }
   ],
   "source": [
    "clf = SVC(kernel = 'poly', degree = 2, gamma = 'scale')\n",
    "\n",
    "C = [1, 2, 3]\n",
    "params = {'C': C}\n",
    "\n",
    "grid_search = GridSearchCV(clf, params, return_train_score = True, iid = True, cv = KFold(3))\n",
    "grid_search.fit(X_train, y_train)"
   ]
  },
  {
   "cell_type": "code",
   "execution_count": 6,
   "metadata": {},
   "outputs": [],
   "source": [
    "def draw_heatmap(acc, acc_desc, c):\n",
    "    plt.figure(figsize = (2,4))\n",
    "    ax = sns.heatmap(acc, annot=True, fmt='.3f', yticklabels=c, xticklabels=[])\n",
    "    ax.collections[0].colorbar.set_label(\"accuracy\")\n",
    "    ax.set(ylabel='C')\n",
    "    plt.title(acc_desc + ' w.r.t C')\n",
    "    sns.set_style(\"whitegrid\", {'axes.grid' : False})\n",
    "    plt.show()"
   ]
  },
  {
   "cell_type": "code",
   "execution_count": 7,
   "metadata": {},
   "outputs": [
    {
     "data": {
      "image/png": "[encoded data removed]",
      "text/plain": [
       "<Figure size 144x288 with 2 Axes>"
      ]
     },
     "metadata": {
      "needs_background": "light"
     },
     "output_type": "display_data"
    }
   ],
   "source": [
    "train_acc = grid_search.cv_results_['mean_train_score'].reshape(-1, 1)\n",
    "draw_heatmap(train_acc, 'train accuracy', C)"
   ]
  },
  {
   "cell_type": "code",
   "execution_count": 8,
   "metadata": {},
   "outputs": [
    {
     "name": "stdout",
     "output_type": "stream",
     "text": [
      "{'C': 2}\n",
      "Accuracy score: 0.6981132075471698\n"
     ]
    }
   ],
   "source": [
    "score = grid_search.best_estimator_.score(X_test, y_test)\n",
    "print(grid_search.best_params_)\n",
    "print(\"Accuracy score: \" + str(score))"
   ]
  },
  {
   "cell_type": "code",
   "execution_count": null,
   "metadata": {},
   "outputs": [],
   "source": []
  }
 ],
 "metadata": {
  "kernelspec": {
   "display_name": "Python 3",
   "language": "python",
   "name": "python3"
  },
  "language_info": {
   "codemirror_mode": {
    "name": "ipython",
    "version": 3
   },
   "file_extension": ".py",
   "mimetype": "text/x-python",
   "name": "python",
   "nbconvert_exporter": "python",
   "pygments_lexer": "ipython3",
   "version": "3.7.4"
  }
 },
 "nbformat": 4,
 "nbformat_minor": 2
}
